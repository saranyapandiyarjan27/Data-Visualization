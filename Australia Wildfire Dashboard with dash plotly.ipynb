{
 "cells": [
  {
   "cell_type": "code",
   "execution_count": 1,
   "id": "3799f0d1-3fa0-4cca-8b3f-7eb524ca1322",
   "metadata": {},
   "outputs": [
    {
     "name": "stdout",
     "output_type": "stream",
     "text": [
      "Requirement already satisfied: setuptools in /opt/conda/lib/python3.12/site-packages (75.8.0)\n",
      "Note: you may need to restart the kernel to use updated packages.\n"
     ]
    }
   ],
   "source": [
    "pip install setuptools\n"
   ]
  },
  {
   "cell_type": "code",
   "execution_count": 2,
   "id": "47ae9662-51f6-467d-9c8e-ff3eae48c466",
   "metadata": {},
   "outputs": [
    {
     "name": "stdout",
     "output_type": "stream",
     "text": [
      "Requirement already satisfied: packaging in /opt/conda/lib/python3.12/site-packages (24.2)\n",
      "Note: you may need to restart the kernel to use updated packages.\n"
     ]
    }
   ],
   "source": [
    " pip install packaging"
   ]
  },
  {
   "cell_type": "code",
   "execution_count": 3,
   "id": "0258375c-90ab-40d8-ba05-b0fb29114ed1",
   "metadata": {},
   "outputs": [
    {
     "name": "stdout",
     "output_type": "stream",
     "text": [
      "Requirement already satisfied: pandas in /opt/conda/lib/python3.12/site-packages (2.2.3)\n",
      "Requirement already satisfied: dash in /opt/conda/lib/python3.12/site-packages (3.0.4)\n",
      "Requirement already satisfied: numpy>=1.26.0 in /opt/conda/lib/python3.12/site-packages (from pandas) (2.2.6)\n",
      "Requirement already satisfied: python-dateutil>=2.8.2 in /opt/conda/lib/python3.12/site-packages (from pandas) (2.9.0.post0)\n",
      "Requirement already satisfied: pytz>=2020.1 in /opt/conda/lib/python3.12/site-packages (from pandas) (2024.2)\n",
      "Requirement already satisfied: tzdata>=2022.7 in /opt/conda/lib/python3.12/site-packages (from pandas) (2025.2)\n",
      "Requirement already satisfied: Flask<3.1,>=1.0.4 in /opt/conda/lib/python3.12/site-packages (from dash) (3.0.3)\n",
      "Requirement already satisfied: Werkzeug<3.1 in /opt/conda/lib/python3.12/site-packages (from dash) (3.0.6)\n",
      "Requirement already satisfied: plotly>=5.0.0 in /opt/conda/lib/python3.12/site-packages (from dash) (5.24.1)\n",
      "Requirement already satisfied: importlib-metadata in /opt/conda/lib/python3.12/site-packages (from dash) (8.6.1)\n",
      "Requirement already satisfied: typing-extensions>=4.1.1 in /opt/conda/lib/python3.12/site-packages (from dash) (4.12.2)\n",
      "Requirement already satisfied: requests in /opt/conda/lib/python3.12/site-packages (from dash) (2.32.3)\n",
      "Requirement already satisfied: retrying in /opt/conda/lib/python3.12/site-packages (from dash) (1.3.4)\n",
      "Requirement already satisfied: nest-asyncio in /opt/conda/lib/python3.12/site-packages (from dash) (1.6.0)\n",
      "Requirement already satisfied: setuptools in /opt/conda/lib/python3.12/site-packages (from dash) (75.8.0)\n",
      "Requirement already satisfied: Jinja2>=3.1.2 in /opt/conda/lib/python3.12/site-packages (from Flask<3.1,>=1.0.4->dash) (3.1.5)\n",
      "Requirement already satisfied: itsdangerous>=2.1.2 in /opt/conda/lib/python3.12/site-packages (from Flask<3.1,>=1.0.4->dash) (2.2.0)\n",
      "Requirement already satisfied: click>=8.1.3 in /opt/conda/lib/python3.12/site-packages (from Flask<3.1,>=1.0.4->dash) (8.2.1)\n",
      "Requirement already satisfied: blinker>=1.6.2 in /opt/conda/lib/python3.12/site-packages (from Flask<3.1,>=1.0.4->dash) (1.9.0)\n",
      "Requirement already satisfied: tenacity>=6.2.0 in /opt/conda/lib/python3.12/site-packages (from plotly>=5.0.0->dash) (9.1.2)\n",
      "Requirement already satisfied: packaging in /opt/conda/lib/python3.12/site-packages (from plotly>=5.0.0->dash) (24.2)\n",
      "Requirement already satisfied: six>=1.5 in /opt/conda/lib/python3.12/site-packages (from python-dateutil>=2.8.2->pandas) (1.17.0)\n",
      "Requirement already satisfied: MarkupSafe>=2.1.1 in /opt/conda/lib/python3.12/site-packages (from Werkzeug<3.1->dash) (3.0.2)\n",
      "Requirement already satisfied: zipp>=3.20 in /opt/conda/lib/python3.12/site-packages (from importlib-metadata->dash) (3.21.0)\n",
      "Requirement already satisfied: charset_normalizer<4,>=2 in /opt/conda/lib/python3.12/site-packages (from requests->dash) (3.4.1)\n",
      "Requirement already satisfied: idna<4,>=2.5 in /opt/conda/lib/python3.12/site-packages (from requests->dash) (3.10)\n",
      "Requirement already satisfied: urllib3<3,>=1.21.1 in /opt/conda/lib/python3.12/site-packages (from requests->dash) (2.3.0)\n",
      "Requirement already satisfied: certifi>=2017.4.17 in /opt/conda/lib/python3.12/site-packages (from requests->dash) (2024.12.14)\n",
      "Note: you may need to restart the kernel to use updated packages.\n"
     ]
    }
   ],
   "source": [
    " pip install pandas dash"
   ]
  },
  {
   "cell_type": "code",
   "execution_count": 4,
   "id": "453a6d3a-0104-4545-beb6-958d1a87e208",
   "metadata": {},
   "outputs": [
    {
     "name": "stdout",
     "output_type": "stream",
     "text": [
      "Requirement already satisfied: httpx==0.20 in /opt/conda/lib/python3.12/site-packages (0.20.0)\n",
      "Requirement already satisfied: dash in /opt/conda/lib/python3.12/site-packages (3.0.4)\n",
      "Requirement already satisfied: plotly in /opt/conda/lib/python3.12/site-packages (5.24.1)\n",
      "Requirement already satisfied: certifi in /opt/conda/lib/python3.12/site-packages (from httpx==0.20) (2024.12.14)\n",
      "Requirement already satisfied: charset-normalizer in /opt/conda/lib/python3.12/site-packages (from httpx==0.20) (3.4.1)\n",
      "Requirement already satisfied: sniffio in /opt/conda/lib/python3.12/site-packages (from httpx==0.20) (1.3.1)\n",
      "Requirement already satisfied: rfc3986<2,>=1.3 in /opt/conda/lib/python3.12/site-packages (from rfc3986[idna2008]<2,>=1.3->httpx==0.20) (1.5.0)\n",
      "Requirement already satisfied: httpcore<0.14.0,>=0.13.3 in /opt/conda/lib/python3.12/site-packages (from httpx==0.20) (0.13.7)\n",
      "Requirement already satisfied: Flask<3.1,>=1.0.4 in /opt/conda/lib/python3.12/site-packages (from dash) (3.0.3)\n",
      "Requirement already satisfied: Werkzeug<3.1 in /opt/conda/lib/python3.12/site-packages (from dash) (3.0.6)\n",
      "Requirement already satisfied: importlib-metadata in /opt/conda/lib/python3.12/site-packages (from dash) (8.6.1)\n",
      "Requirement already satisfied: typing-extensions>=4.1.1 in /opt/conda/lib/python3.12/site-packages (from dash) (4.12.2)\n",
      "Requirement already satisfied: requests in /opt/conda/lib/python3.12/site-packages (from dash) (2.32.3)\n",
      "Requirement already satisfied: retrying in /opt/conda/lib/python3.12/site-packages (from dash) (1.3.4)\n",
      "Requirement already satisfied: nest-asyncio in /opt/conda/lib/python3.12/site-packages (from dash) (1.6.0)\n",
      "Requirement already satisfied: setuptools in /opt/conda/lib/python3.12/site-packages (from dash) (75.8.0)\n",
      "Requirement already satisfied: tenacity>=6.2.0 in /opt/conda/lib/python3.12/site-packages (from plotly) (9.1.2)\n",
      "Requirement already satisfied: packaging in /opt/conda/lib/python3.12/site-packages (from plotly) (24.2)\n",
      "Requirement already satisfied: Jinja2>=3.1.2 in /opt/conda/lib/python3.12/site-packages (from Flask<3.1,>=1.0.4->dash) (3.1.5)\n",
      "Requirement already satisfied: itsdangerous>=2.1.2 in /opt/conda/lib/python3.12/site-packages (from Flask<3.1,>=1.0.4->dash) (2.2.0)\n",
      "Requirement already satisfied: click>=8.1.3 in /opt/conda/lib/python3.12/site-packages (from Flask<3.1,>=1.0.4->dash) (8.2.1)\n",
      "Requirement already satisfied: blinker>=1.6.2 in /opt/conda/lib/python3.12/site-packages (from Flask<3.1,>=1.0.4->dash) (1.9.0)\n",
      "Requirement already satisfied: h11<0.13,>=0.11 in /opt/conda/lib/python3.12/site-packages (from httpcore<0.14.0,>=0.13.3->httpx==0.20) (0.12.0)\n",
      "Requirement already satisfied: anyio==3.* in /opt/conda/lib/python3.12/site-packages (from httpcore<0.14.0,>=0.13.3->httpx==0.20) (3.7.1)\n",
      "Requirement already satisfied: idna>=2.8 in /opt/conda/lib/python3.12/site-packages (from anyio==3.*->httpcore<0.14.0,>=0.13.3->httpx==0.20) (3.10)\n",
      "Requirement already satisfied: MarkupSafe>=2.1.1 in /opt/conda/lib/python3.12/site-packages (from Werkzeug<3.1->dash) (3.0.2)\n",
      "Requirement already satisfied: zipp>=3.20 in /opt/conda/lib/python3.12/site-packages (from importlib-metadata->dash) (3.21.0)\n",
      "Requirement already satisfied: urllib3<3,>=1.21.1 in /opt/conda/lib/python3.12/site-packages (from requests->dash) (2.3.0)\n",
      "Requirement already satisfied: six>=1.7.0 in /opt/conda/lib/python3.12/site-packages (from retrying->dash) (1.17.0)\n",
      "Note: you may need to restart the kernel to use updated packages.\n"
     ]
    }
   ],
   "source": [
    "pip install httpx==0.20 dash plotly"
   ]
  },
  {
   "cell_type": "code",
   "execution_count": null,
   "id": "71d914a9-143c-48f5-99b2-305defa508da",
   "metadata": {},
   "outputs": [],
   "source": [
    "import pandas as pd\n",
    "import dash\n",
    "from dash import html, dcc\n",
    "from dash.dependencies import Input, Output, State\n",
    "import plotly.graph_objects as go\n",
    "import plotly.express as px\n",
    "from dash import no_update\n",
    "import datetime as dt\n",
    "#Create app\n",
    "app = dash.Dash(__name__)\n",
    "#Clear the layout and do not display exception till callback gets executed\n",
    "app.config.suppress_callback_exceptions = True\n",
    "# Read the wildfire data into pandas dataframe\n",
    "df =  pd.read_csv('https://cf-courses-data.s3.us.cloud-object-storage.appdomain.cloud/IBMDeveloperSkillsNetwork-DV0101EN-SkillsNetwork/Data%20Files/Historical_Wildfires.csv')\n",
    "#Extract year and month from the date column\n",
    "df['Month'] = pd.to_datetime(df['Date']).dt.month_name() #used for the names of the months\n",
    "df['Year'] = pd.to_datetime(df['Date']).dt.year\n",
    "#Layout Section of Dash\n",
    "#Task 1 Add the Title to the Dashboard\n",
    "app.layout = html.Div(children=[html.H1('Australia Wildfire Dashboard', \n",
    "                                style={'textAlign': 'center', 'color': '#503D36',\n",
    "                                'font-size': 26}),\n",
    "# TASK 2: Add the radio items and a dropdown right below the first inner division\n",
    "     #outer division starts\n",
    "     html.Div([\n",
    "                   # First inner divsion for  adding dropdown helper text for Selected Drive wheels\n",
    "                    html.Div([\n",
    "                            html.H2('Select Region:', style={'margin-right': '2em'}),\n",
    "\n",
    "                    #Radio items to select the region\n",
    "                    #dcc.RadioItems(['NSW','QL','SA','TA','VI','WA'], 'NSW', id='region',inline=True)]),\n",
    "                    dcc.RadioItems([{\"label\":\"New South Wales\",\"value\": \"NSW\"},\n",
    "                                    {\"label\":\"Northern Territory\",\"value\": \"NT\"},\n",
    "                                    {\"label\":\"Queensland\",\"value\": \"QL\"},\n",
    "                                    {\"label\":\"South Australia\",\"value\": \"SA\"},\n",
    "                                    {\"label\":\"Tasmania\",\"value\": \"TA\"},\n",
    "                                    {\"label\":\"Victoria\",\"value\": \"VI\"},\n",
    "                                    {\"label\":\"Western Australia\",\"value\": \"WA\"}],\"NSW\", id='region',inline=True)]),\n",
    "                    #Dropdown to select year\n",
    "                    html.Div([\n",
    "                            html.H2('Select Year:', style={'margin-right': '2em'}),\n",
    "                        dcc.Dropdown(df.Year.unique(), value = 2005,id='year')\n",
    "                    ]),\n",
    "#TASK 3: Add two empty divisions for output inside the next inner division. \n",
    "         #Second Inner division for adding 2 inner divisions for 2 output graphs\n",
    "                    html.Div([\n",
    "                \n",
    "                        html.Div([ ], id='plot1'),\n",
    "                        html.Div([ ], id='plot2')\n",
    "                    ], style={'display': 'flex'}),\n",
    "\n",
    "    ])\n",
    "    #outer division ends\n",
    "\n",
    "])\n",
    "#layout ends\n",
    "#TASK 4: Add the Ouput and input components inside the app.callback decorator.\n",
    "#Place to add @app.callback Decorator\n",
    "@app.callback([Output(component_id='plot1', component_property='children'),\n",
    "               Output(component_id='plot2', component_property='children')],\n",
    "               [Input(component_id='region', component_property='value'),\n",
    "                Input(component_id='year', component_property='value')])\n",
    "#TASK 5: Add the callback function.   \n",
    "#Place to define the callback function .\n",
    "def reg_year_display(input_region,input_year):  \n",
    "    #data\n",
    "   region_data = df[df['Region'] == input_region]\n",
    "   y_r_data = region_data[region_data['Year']==input_year]\n",
    "    #Plot one - Monthly Average Estimated Fire Area   \n",
    "   est_data = y_r_data.groupby('Month')['Estimated_fire_area'].mean().reset_index()\n",
    "   fig1 = px.pie(est_data, values='Estimated_fire_area', names='Month', title=\"{} : Monthly Average Estimated Fire Area in year {}\".format(input_region,input_year))   \n",
    "     #Plot two - Monthly Average Count of Pixels for Presumed Vegetation Fires\n",
    "   veg_data = y_r_data.groupby('Month')['Count'].mean().reset_index()\n",
    "   fig2 = px.bar(veg_data, x='Month', y='Count', title='{} : Average Count of Pixels for Presumed Vegetation Fires in year {}'.format(input_region,input_year))    \n",
    "   return [dcc.Graph(figure=fig1),\n",
    "            dcc.Graph(figure=fig2) ]\n",
    "if __name__ == '__main__':\n",
    "    app.run()\n",
    "    "
   ]
  }
 ],
 "metadata": {
  "kernelspec": {
   "display_name": "Python 3 (ipykernel)",
   "language": "python",
   "name": "python3"
  },
  "language_info": {
   "codemirror_mode": {
    "name": "ipython",
    "version": 3
   },
   "file_extension": ".py",
   "mimetype": "text/x-python",
   "name": "python",
   "nbconvert_exporter": "python",
   "pygments_lexer": "ipython3",
   "version": "3.12.8"
  }
 },
 "nbformat": 4,
 "nbformat_minor": 5
}
